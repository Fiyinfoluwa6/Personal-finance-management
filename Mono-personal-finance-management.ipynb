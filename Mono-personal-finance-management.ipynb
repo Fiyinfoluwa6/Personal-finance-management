{
 "cells": [
  {
   "cell_type": "code",
   "execution_count": 1,
   "id": "6e6c4ce0",
   "metadata": {},
   "outputs": [],
   "source": [
    "import pandas as pd\n",
    "import numpy as np\n",
    "import warnings\n",
    "import datetime as dt\n",
    "warnings.filterwarnings(\"ignore\")\n",
    "import datetime as datetime\n",
    "import io\n",
    "import re\n",
    "import nltk\n",
    "from nltk.corpus import stopwords\n",
    "from collections import Counter\n",
    "import sqlite3\n",
    "import os\n",
    "import matplotlib.pyplot as plt\n",
    "import seaborn as sns\n",
    "from IPython.display import display, Markdown, Latex\n",
    "\n",
    "from sklearn.feature_extraction.text import CountVectorizer, TfidfVectorizer\n",
    "from sklearn.feature_extraction.text import TfidfTransformer\n",
    "\n",
    "from sklearn.metrics import precision_score, recall_score, f1_score, confusion_matrix\n",
    "from sklearn.metrics import classification_report\n",
    "\n",
    "from sklearn.svm import LinearSVC\n",
    "from sklearn.naive_bayes import MultinomialNB, CategoricalNB\n",
    "from sklearn.linear_model import LogisticRegression\n",
    "\n",
    "from sklearn.model_selection import train_test_split\n",
    "from sklearn.pipeline import Pipeline\n",
    "\n",
    "pd.set_option('max_rows', None)\n",
    "pd.set_option('max_columns', None)\n",
    "pd.set_option('display.max_colwidth', -1)"
   ]
  },
  {
   "cell_type": "markdown",
   "id": "56b699df",
   "metadata": {},
   "source": [
    "## 1. Data Ingestion"
   ]
  },
  {
   "cell_type": "code",
   "execution_count": 2,
   "id": "5afe98a7",
   "metadata": {},
   "outputs": [],
   "source": [
    "data=pd.read_csv('export interview data.csv')\n",
    "fields = ['indd','label2']\n",
    "label = pd.read_csv('label.csv', usecols=fields)"
   ]
  },
  {
   "cell_type": "code",
   "execution_count": 3,
   "id": "3a11d98d",
   "metadata": {},
   "outputs": [
    {
     "data": {
      "text/plain": [
       "23"
      ]
     },
     "execution_count": 3,
     "metadata": {},
     "output_type": "execute_result"
    }
   ],
   "source": [
    "data.label.nunique()"
   ]
  },
  {
   "cell_type": "markdown",
   "id": "2694ad54",
   "metadata": {},
   "source": [
    "## 2. Mapping labels to the respective Texts"
   ]
  },
  {
   "cell_type": "markdown",
   "id": "55d1c5d4",
   "metadata": {},
   "source": [
    "- Note: export interview data, label 11 is missing"
   ]
  },
  {
   "cell_type": "code",
   "execution_count": 4,
   "id": "3c412918",
   "metadata": {},
   "outputs": [
    {
     "name": "stdout",
     "output_type": "stream",
     "text": [
      "{24: 'bank_charges', 1: 'transfer', 2: 'online_transactions', 3: 'vat', 4: 'phone_and_internet', 5: 'atm_withdrawal', 6: 'offline_transactions', 7: 'stamp_duties_charges', 8: 'atm_withdrawal_charges', 9: 'bills_or_fees', 10: 'reversals', 11: 'self_care', 12: 'miscellaneous', 13: 'food', 14: 'mature_loan_instalment', 15: 'others', 16: 'loan_repayment', 17: 'transportation', 18: 'investment', 19: 'salary', 20: 'cash_deposit', 21: 'health', 22: 'card_request_commission', 23: 'Rent'}\n"
     ]
    }
   ],
   "source": [
    "dic=label.set_index('indd')['label2'].to_dict()\n",
    "data['label_text']=data.label.map(dic)\n",
    "# for key, value in dic.items():\n",
    "#     print(key,value)\n",
    "print(dic)"
   ]
  },
  {
   "cell_type": "code",
   "execution_count": 5,
   "id": "26faa00a",
   "metadata": {},
   "outputs": [
    {
     "data": {
      "text/plain": [
       "23"
      ]
     },
     "execution_count": 5,
     "metadata": {},
     "output_type": "execute_result"
    }
   ],
   "source": [
    "data.label_text.nunique()"
   ]
  },
  {
   "cell_type": "code",
   "execution_count": 6,
   "id": "3c1a83fa",
   "metadata": {},
   "outputs": [
    {
     "data": {
      "text/markdown": [
       "#### Amount of Samples Label"
      ],
      "text/plain": [
       "<IPython.core.display.Markdown object>"
      ]
     },
     "metadata": {},
     "output_type": "display_data"
    },
    {
     "data": {
      "text/plain": [
       "<AxesSubplot:xlabel='count', ylabel='label_text'>"
      ]
     },
     "execution_count": 6,
     "metadata": {},
     "output_type": "execute_result"
    },
    {
     "data": {
      "image/png": "[encoded data removed]",
      "text/plain": [
       "<Figure size 720x576 with 1 Axes>"
      ]
     },
     "metadata": {
      "needs_background": "light"
     },
     "output_type": "display_data"
    }
   ],
   "source": [
    "display(Markdown('#### Amount of Samples Label'))\n",
    "plt.figure(figsize = (10, 8))\n",
    "sns.countplot(data = data, y = 'label_text')"
   ]
  },
  {
   "cell_type": "markdown",
   "id": "b2be2d0c",
   "metadata": {},
   "source": [
    "# 3.Data Cleaning"
   ]
  },
  {
   "cell_type": "code",
   "execution_count": 7,
   "id": "926bf6bb",
   "metadata": {},
   "outputs": [
    {
     "name": "stderr",
     "output_type": "stream",
     "text": [
      "[nltk_data] Downloading package stopwords to\n",
      "[nltk_data]     /Users/favour.oyelami/nltk_data...\n",
      "[nltk_data]   Package stopwords is already up-to-date!\n"
     ]
    }
   ],
   "source": [
    "nltk.download('stopwords')\n",
    "stop_words = stopwords.words('english')\n",
    "\n",
    "\n",
    "new_stopwords = [\"xx\", \"xxxx\",\"via\",\"gw\",\"flw\",\"f\",\"onb\", \"pg\", \"nig\", \"i\", \n",
    "                   \"ac\", \"kla\", \"ik\", \"bw\", \"ly\", \"eg\",\"kd\",\"est\", \"enzy\", \"eomo\", \"epo\", \n",
    "                 \"erelesusi\", \"frozen\", \"err\", \"error\", \"ese\", \"ernest\",\"buhari\",\"love\",\n",
    "                'failure', \"failed\", \"ezzy\", \"ezinna\", \"ezeugbor\", \"ezeokeke\", \"express\", \"expre\", \"exceeded\", \n",
    "                 \"fagbule\"\n",
    "]\n",
    "\n",
    "stop_words.extend(new_stopwords)"
   ]
  },
  {
   "cell_type": "code",
   "execution_count": 8,
   "id": "d3128fd8",
   "metadata": {},
   "outputs": [
    {
     "name": "stdout",
     "output_type": "stream",
     "text": [
      "example of text before cleaning:        NIBSS Instant Payment Outward via GTWORLD TO WEMA/buhari  love /./REF:GW f\n",
      "\n",
      "\n",
      "example of text after cleaning:        nibss instant payment outward gtworld wema ref\n"
     ]
    }
   ],
   "source": [
    "# removing stopwords from short_messages\n",
    "\n",
    "def clean_text(text):\n",
    "    \n",
    "    text = text.lower()\n",
    "    text = re.sub(\"[0-9]\", \" \", text)\n",
    "    text = re.sub(\"[^a-z -]\", \" \", text)\n",
    "    \n",
    "    result = [i for i in text.split() if i not in stop_words]\n",
    "    result = ' '.join(result)\n",
    "    \n",
    "    return result\n",
    "\n",
    "\n",
    "print('example of text before cleaning:       ', data['narrations'][5])\n",
    "print('\\n')\n",
    "\n",
    "data['narrations'] = data['narrations'].apply(lambda x: clean_text(x))\n",
    "print('example of text after cleaning:       ', data['narrations'][5])"
   ]
  },
  {
   "cell_type": "code",
   "execution_count": 9,
   "id": "08e7116c",
   "metadata": {},
   "outputs": [
    {
     "data": {
      "text/html": [
       "<div>\n",
       "<style scoped>\n",
       "    .dataframe tbody tr th:only-of-type {\n",
       "        vertical-align: middle;\n",
       "    }\n",
       "\n",
       "    .dataframe tbody tr th {\n",
       "        vertical-align: top;\n",
       "    }\n",
       "\n",
       "    .dataframe thead th {\n",
       "        text-align: right;\n",
       "    }\n",
       "</style>\n",
       "<table border=\"1\" class=\"dataframe\">\n",
       "  <thead>\n",
       "    <tr style=\"text-align: right;\">\n",
       "      <th></th>\n",
       "      <th>narrations</th>\n",
       "      <th>label</th>\n",
       "      <th>label_text</th>\n",
       "    </tr>\n",
       "  </thead>\n",
       "  <tbody>\n",
       "    <tr>\n",
       "      <th>0</th>\n",
       "      <td>nibss instant payment outward gtworld wema john doe tomiwa ref</td>\n",
       "      <td>1</td>\n",
       "      <td>transfer</td>\n",
       "    </tr>\n",
       "    <tr>\n",
       "      <th>1</th>\n",
       "      <td>commission nip transfer commission gtworld fcmb huddle stone ref</td>\n",
       "      <td>1</td>\n",
       "      <td>transfer</td>\n",
       "    </tr>\n",
       "    <tr>\n",
       "      <th>2</th>\n",
       "      <td>nibss instant payment nip reversal beneficiary bank ref</td>\n",
       "      <td>1</td>\n",
       "      <td>transfer</td>\n",
       "    </tr>\n",
       "    <tr>\n",
       "      <th>3</th>\n",
       "      <td>pos web purchase transaction -- --barter interswitchdelang</td>\n",
       "      <td>1</td>\n",
       "      <td>transfer</td>\n",
       "    </tr>\n",
       "  </tbody>\n",
       "</table>\n",
       "</div>"
      ],
      "text/plain": [
       "                                                         narrations  label  \\\n",
       "0  nibss instant payment outward gtworld wema john doe tomiwa ref    1       \n",
       "1  commission nip transfer commission gtworld fcmb huddle stone ref  1       \n",
       "2  nibss instant payment nip reversal beneficiary bank ref           1       \n",
       "3  pos web purchase transaction -- --barter interswitchdelang        1       \n",
       "\n",
       "  label_text  \n",
       "0  transfer   \n",
       "1  transfer   \n",
       "2  transfer   \n",
       "3  transfer   "
      ]
     },
     "execution_count": 9,
     "metadata": {},
     "output_type": "execute_result"
    }
   ],
   "source": [
    "data.head(4)"
   ]
  },
  {
   "cell_type": "code",
   "execution_count": 10,
   "id": "65446506",
   "metadata": {},
   "outputs": [
    {
     "data": {
      "text/html": [
       "<div>\n",
       "<style scoped>\n",
       "    .dataframe tbody tr th:only-of-type {\n",
       "        vertical-align: middle;\n",
       "    }\n",
       "\n",
       "    .dataframe tbody tr th {\n",
       "        vertical-align: top;\n",
       "    }\n",
       "\n",
       "    .dataframe thead th {\n",
       "        text-align: right;\n",
       "    }\n",
       "</style>\n",
       "<table border=\"1\" class=\"dataframe\">\n",
       "  <thead>\n",
       "    <tr style=\"text-align: right;\">\n",
       "      <th></th>\n",
       "      <th>label_text</th>\n",
       "      <th>label</th>\n",
       "    </tr>\n",
       "  </thead>\n",
       "  <tbody>\n",
       "    <tr>\n",
       "      <th>0</th>\n",
       "      <td>transfer</td>\n",
       "      <td>0</td>\n",
       "    </tr>\n",
       "    <tr>\n",
       "      <th>1</th>\n",
       "      <td>bank_charges</td>\n",
       "      <td>1</td>\n",
       "    </tr>\n",
       "    <tr>\n",
       "      <th>2</th>\n",
       "      <td>Rent</td>\n",
       "      <td>2</td>\n",
       "    </tr>\n",
       "    <tr>\n",
       "      <th>3</th>\n",
       "      <td>card_request_commission</td>\n",
       "      <td>3</td>\n",
       "    </tr>\n",
       "    <tr>\n",
       "      <th>4</th>\n",
       "      <td>health</td>\n",
       "      <td>4</td>\n",
       "    </tr>\n",
       "    <tr>\n",
       "      <th>5</th>\n",
       "      <td>cash_deposit</td>\n",
       "      <td>5</td>\n",
       "    </tr>\n",
       "    <tr>\n",
       "      <th>6</th>\n",
       "      <td>salary</td>\n",
       "      <td>6</td>\n",
       "    </tr>\n",
       "    <tr>\n",
       "      <th>7</th>\n",
       "      <td>investment</td>\n",
       "      <td>7</td>\n",
       "    </tr>\n",
       "    <tr>\n",
       "      <th>8</th>\n",
       "      <td>transportation</td>\n",
       "      <td>8</td>\n",
       "    </tr>\n",
       "    <tr>\n",
       "      <th>9</th>\n",
       "      <td>loan_repayment</td>\n",
       "      <td>9</td>\n",
       "    </tr>\n",
       "    <tr>\n",
       "      <th>10</th>\n",
       "      <td>others</td>\n",
       "      <td>10</td>\n",
       "    </tr>\n",
       "    <tr>\n",
       "      <th>11</th>\n",
       "      <td>mature_loan_instalment</td>\n",
       "      <td>11</td>\n",
       "    </tr>\n",
       "    <tr>\n",
       "      <th>12</th>\n",
       "      <td>food</td>\n",
       "      <td>12</td>\n",
       "    </tr>\n",
       "    <tr>\n",
       "      <th>13</th>\n",
       "      <td>miscellaneous</td>\n",
       "      <td>13</td>\n",
       "    </tr>\n",
       "    <tr>\n",
       "      <th>14</th>\n",
       "      <td>reversals</td>\n",
       "      <td>14</td>\n",
       "    </tr>\n",
       "    <tr>\n",
       "      <th>15</th>\n",
       "      <td>bills_or_fees</td>\n",
       "      <td>15</td>\n",
       "    </tr>\n",
       "    <tr>\n",
       "      <th>16</th>\n",
       "      <td>atm_withdrawal_charges</td>\n",
       "      <td>16</td>\n",
       "    </tr>\n",
       "    <tr>\n",
       "      <th>17</th>\n",
       "      <td>stamp_duties_charges</td>\n",
       "      <td>17</td>\n",
       "    </tr>\n",
       "    <tr>\n",
       "      <th>18</th>\n",
       "      <td>offline_transactions</td>\n",
       "      <td>18</td>\n",
       "    </tr>\n",
       "    <tr>\n",
       "      <th>19</th>\n",
       "      <td>atm_withdrawal</td>\n",
       "      <td>19</td>\n",
       "    </tr>\n",
       "    <tr>\n",
       "      <th>20</th>\n",
       "      <td>phone_and_internet</td>\n",
       "      <td>20</td>\n",
       "    </tr>\n",
       "    <tr>\n",
       "      <th>21</th>\n",
       "      <td>vat</td>\n",
       "      <td>21</td>\n",
       "    </tr>\n",
       "    <tr>\n",
       "      <th>22</th>\n",
       "      <td>online_transactions</td>\n",
       "      <td>22</td>\n",
       "    </tr>\n",
       "  </tbody>\n",
       "</table>\n",
       "</div>"
      ],
      "text/plain": [
       "                 label_text  label\n",
       "0   transfer                 0    \n",
       "1   bank_charges             1    \n",
       "2   Rent                     2    \n",
       "3   card_request_commission  3    \n",
       "4   health                   4    \n",
       "5   cash_deposit             5    \n",
       "6   salary                   6    \n",
       "7   investment               7    \n",
       "8   transportation           8    \n",
       "9   loan_repayment           9    \n",
       "10  others                   10   \n",
       "11  mature_loan_instalment   11   \n",
       "12  food                     12   \n",
       "13  miscellaneous            13   \n",
       "14  reversals                14   \n",
       "15  bills_or_fees            15   \n",
       "16  atm_withdrawal_charges   16   \n",
       "17  stamp_duties_charges     17   \n",
       "18  offline_transactions     18   \n",
       "19  atm_withdrawal           19   \n",
       "20  phone_and_internet       20   \n",
       "21  vat                      21   \n",
       "22  online_transactions      22   "
      ]
     },
     "execution_count": 10,
     "metadata": {},
     "output_type": "execute_result"
    }
   ],
   "source": [
    "data['label'] = data['label_text'].factorize()[0]\n",
    "mp_val = data[['label_text', 'label']].drop_duplicates().sort_values('label')\n",
    "mp_val.reset_index(drop = True)"
   ]
  },
  {
   "cell_type": "code",
   "execution_count": 11,
   "id": "209f2cae",
   "metadata": {},
   "outputs": [
    {
     "data": {
      "text/plain": [
       "{'transfer': 0,\n",
       " 'bank_charges': 1,\n",
       " 'Rent': 2,\n",
       " 'card_request_commission': 3,\n",
       " 'health': 4,\n",
       " 'cash_deposit': 5,\n",
       " 'salary': 6,\n",
       " 'investment': 7,\n",
       " 'transportation': 8,\n",
       " 'loan_repayment': 9,\n",
       " 'others': 10,\n",
       " 'mature_loan_instalment': 11,\n",
       " 'food': 12,\n",
       " 'miscellaneous': 13,\n",
       " 'reversals': 14,\n",
       " 'bills_or_fees': 15,\n",
       " 'atm_withdrawal_charges': 16,\n",
       " 'stamp_duties_charges': 17,\n",
       " 'offline_transactions': 18,\n",
       " 'atm_withdrawal': 19,\n",
       " 'phone_and_internet': 20,\n",
       " 'vat': 21,\n",
       " 'online_transactions': 22}"
      ]
     },
     "execution_count": 11,
     "metadata": {},
     "output_type": "execute_result"
    }
   ],
   "source": [
    "label_to_id = dict(mp_val.values)\n",
    "id_to_label = dict(mp_val[['label', 'label_text']].values)\n",
    "target_vals = list(id_to_label.values())\n",
    "label_to_id"
   ]
  },
  {
   "cell_type": "markdown",
   "id": "947f760f",
   "metadata": {},
   "source": [
    "## 4. Identifying Correlated keywords"
   ]
  },
  {
   "cell_type": "code",
   "execution_count": 12,
   "id": "61449539",
   "metadata": {},
   "outputs": [],
   "source": [
    "tfidf = TfidfVectorizer(sublinear_tf=True, min_df=2, norm='l2', encoding='latin-1', \n",
    "                        ngram_range=(1, 2), stop_words=stop_words, lowercase = False)\n",
    "\n",
    "features = tfidf.fit_transform(data['narrations']).toarray()\n",
    "labels = data['label']"
   ]
  },
  {
   "cell_type": "code",
   "execution_count": 13,
   "id": "82f0dd85",
   "metadata": {},
   "outputs": [
    {
     "name": "stdout",
     "output_type": "stream",
     "text": [
      "n==> transfer:\n",
      "  * Most Correlated Unigrams are: afeez, adew, stone, window, paystack, wema, managed, virtual, id, slam\n",
      "\n",
      "  * Most Correlated Bigrams are: managed acct, paystack virtual, paystack ref, virtual managed, id www, transfer uzikwendu, commission gtworld, commission nip, gtworld ref, gtworld wema\n",
      "\n",
      "\n",
      "n==> bank_charges:\n",
      "  * Most Correlated Unigrams are: withdrawal, atm, nibss, charge, current, maintenance, apr, sms, charges, alert\n",
      "\n",
      "  * Most Correlated Bigrams are: nibss doe, charges talle, nibss john, charges sunday, charges john, nibss lily, charges bukola, alert charge, sms alert, alert charges\n",
      "\n",
      "\n",
      "n==> Rent:\n",
      "  * Most Correlated Unigrams are: olaleye, meriam, houserent, alli, metta, ceondotcom, olajide, adebote, house, rent\n",
      "\n",
      "  * Most Correlated Bigrams are: kehinde babajide, ceondotcom company, mbanking part, olajide oluremi, emmanuella olajide, outward rent, part rent, gtworld house, rent ref, house rent\n",
      "\n",
      "\n",
      "n==> card_request_commission:\n",
      "  * Most Correlated Unigrams are: lily, acct, visa, charge, new, cost, naira, mastercard, card, request\n",
      "\n",
      "  * Most Correlated Bigrams are: lily monday, acct new, card cost, cost acct, new visa, request commission, naira mastercard, commission charge, charge naira, card request\n",
      "\n",
      "\n",
      "n==> health:\n",
      "  * Most Correlated Unigrams are: rp, mtq, hzn, credit, rs, jacob, posibanjo, buharilp, life, insurance\n",
      "\n",
      "  * Most Correlated Bigrams are: sunday doe, mob uto, customers mob, pdlp rp, pdlp mtq, pdlp hzn, credit life, posibanjo buharilp, life insurance, insurance pdlp\n",
      "\n",
      "\n",
      "n==> cash_deposit:\n",
      "  * Most Correlated Unigrams are: pinpad, lagere, ishola, fjb, ife, victoria, oguoma, dep, csh, deposit\n",
      "\n",
      "  * Most Correlated Bigrams are: dep fjb, fjb isaac, isaac ishola, ishola ife, oguoma victoria, branch atm, dep oguoma, deposit branch, csh dep, cash deposit\n",
      "\n",
      "\n",
      "n==> salary:\n",
      "  * Most Correlated Unigrams are: ecart, serv, arik, air, abraham, ogunmade, neft, mthly, gaps, salary\n",
      "\n",
      "  * Most Correlated Bigrams are: internet serv, arik air, olusegun abraham, ogunmade olusegun, serv ltd, ltd ogunmade, salary ref, mthly salary, salary gaps, gtworld salary\n",
      "\n",
      "\n",
      "n==> investment:\n",
      "  * Most Correlated Unigrams are: liquidation, credit, investment, pdlp, ih, wi, ibeh, ogheneruew, salvation, ge\n",
      "\n",
      "  * Most Correlated Bigrams are: principal liquidation, liquidation pdlp, pdlp talle, pdlp ih, ih babangida, pdlp wi, salvation ogheneruew, ogheneruew ibeh, sterling salvation, pdlp ge\n",
      "\n",
      "\n",
      "n==> transportation:\n",
      "  * Most Correlated Unigrams are: oladejo, bodunrin, rasheed, oladimeji, raheem, musa, saheed, akinola, transport, transportation\n",
      "\n",
      "  * Most Correlated Bigrams are: rasheed oladimeji, bodunrin rasheed, raheem musa, uba raheem, musa opeyemi, akinola saheed, rep akinola, transportation ref, gtworld transportation, gtworld transport\n",
      "\n",
      "\n",
      "n==> loan_repayment:\n",
      "  * Most Correlated Unigrams are: credit, kcgaming, itua, main, principal, loan, interest, sylvester, funds, stpl\n",
      "\n",
      "  * Most Correlated Bigrams are: stpl bj, insurance stpl, ogah sylvester, itua azuka, stpl john, interest liquidation, sylvester itua, main interest, liquidation stpl, funds transfer\n",
      "\n",
      "\n",
      "n==> others:\n",
      "  * Most Correlated Unigrams are: akpan, banking, francis, olanrewaju, concentrations, cheque, plan, order, standing, name\n",
      "\n",
      "  * Most Correlated Bigrams are: cheque deposit, internet banking, frm concentrations, company name, name company, banking plan, plan name, standing order, order internet, order standing\n",
      "\n",
      "\n",
      "n==> mature_loan_instalment:\n",
      "  * Most Correlated Unigrams are: hzn, vz, liquidation, wallets, interest, disbursement, balance, principal, pdlp, paid\n",
      "\n",
      "  * Most Correlated Bigrams are: balance john, matured loan, pdlp hzn, pdlp vz, principal liquidation, principal disbursement, disbursement pdlp, liquidation pdlp, paid balance, interest paid\n",
      "\n",
      "\n",
      "n==> food:\n",
      "  * Most Correlated Unigrams are: chidimma, tasty, fooditems, uchenna, agwu, talleood, kalu, eat, dominos, food\n",
      "\n",
      "  * Most Correlated Bigrams are: mbanking food, food zbn, agwu kalu, kalu uchenna, uchenna kalu, zbn oluwaseun, food ref, customers food, www dominos, gtworld food\n",
      "\n",
      "\n",
      "n==> miscellaneous:\n",
      "  * Most Correlated Unigrams are: amos, abdulor, fb, contribution, int, chq, rtd, rtn, wtax, pd\n",
      "\n",
      "  * Most Correlated Bigrams are: john doe, reabdul abdul, abdul abdulor, gtworld abdul, fb rtd, rtd chq, chq sunday, rtn chq, int pd, wtax pd\n",
      "\n",
      "\n",
      "n==> reversals:\n",
      "  * Most Correlated Unigrams are: doeailed, returned, rev, providus, ussd, nibss, payment, dispense, instant, reversal\n",
      "\n",
      "  * Most Correlated Bigrams are: commission reversal, payment ussd, ussd nip, reversal gtbank, dispense reversal, instant payment, nibss instant, atm transaction, transaction reversal, payment gtworld\n",
      "\n",
      "\n",
      "n==> bills_or_fees:\n",
      "  * Most Correlated Unigrams are: maint, issuance, fee, gtb, customers, bills, infor, nat, remita, bill\n",
      "\n",
      "  * Most Correlated Bigrams are: bill ref, uto bills, sal cbn, transfer customers, bill zbn, nat infor, payment nat, remita payment, customers bill, gtworld bill\n",
      "\n",
      "\n",
      "n==> atm_withdrawal_charges:\n",
      "  * Most Correlated Unigrams are: lagos, akari, asaba, ire, ibadan, abuja, atm, withdrawal, wt, commission\n",
      "\n",
      "  * Most Correlated Bigrams are: commission ebn, commission keystone, commission uba, lagos sunday, commission atm, transfer commission, commission wt, purchase transfer, atm withdrawal, withdrawal commission\n",
      "\n",
      "\n",
      "n==> stamp_duties_charges:\n",
      "  * Most Correlated Unigrams are: charge, jul, stasunday, fgn, cbn, postal, sep, stampduty, duty, stamp\n",
      "\n",
      "  * Most Correlated Bigrams are: duty omo, duty tafawa, duty lily, duty sunday, duty bukola, duty christensen, duty talle, duty osibanjo, duty john, stamp duty\n",
      "\n",
      "\n",
      "n==> offline_transactions:\n",
      "  * Most Correlated Unigrams are: limi, concepts, pigg, ebeano, prince, pmt, purchase, transaction, pos, web\n",
      "\n",
      "  * Most Correlated Bigrams are: transaction food, food concepts, pmt prince, transaction pigg, transaction prince, prince ebeano, web pmt, web purchase, purchase transaction, pos web\n",
      "\n",
      "\n",
      "n==> atm_withdrawal:\n",
      "  * Most Correlated Unigrams are: qsp, wdl, lagos, igando, egbe, acount, ikotun, atm, withdrawal, cash\n",
      "\n",
      "  * Most Correlated Bigrams are: atm wdl, atm access, atm atm, atm pos, acount account, pos acount, withdrawal ikotun, atm gtbank, withdrawal atm, cash withdrawal\n",
      "\n",
      "\n",
      "n==> phone_and_internet:\n",
      "  * Most Correlated Unigrams are: airtime, data, tallelbuhari, alert, sms, bills, airtel, apr, glo, recharge\n",
      "\n",
      "  * Most Correlated Bigrams are: recharge babangida, recharge joe, recharge john, recharge tafawa, john apr, bills sunday, christensen christensen, bills airtel, bills glo, recharge sunday\n",
      "\n",
      "\n",
      "n==> vat:\n",
      "  * Most Correlated Unigrams are: transfer, gtworld, fbn, nip, drycleaners, supremacy, vat, tax, added, value\n",
      "\n",
      "  * Most Correlated Bigrams are: drycleaners uba, drycleaners fbn, gtworld supremacy, supremacy drycleaners, nip transfer, transfer gtworld, vat nip, tax vat, value added, added tax\n",
      "\n",
      "\n",
      "n==> online_transactions:\n",
      "  * Most Correlated Unigrams are: oil, com, payments, web, purchase, subol, hospitals, gaming, kc, btj\n",
      "\n",
      "  * Most Correlated Bigrams are: ikeja osibanjo, web purchase, payments ltd, subol hospitals, purchase subol, btj kc, kc gaming, ikeja boris, purchase ikeja, pos purchase\n",
      "\n",
      "\n"
     ]
    }
   ],
   "source": [
    "from sklearn.feature_selection import chi2\n",
    "    \n",
    "def get_most_corr_grams(trans_feats = features, target_col = 'column_name', N = 10, col_id_dict = 'column_name'):\n",
    "    \n",
    "    for i in target_col.unique():\n",
    "        target_col_id = col_id_dict.get(i)\n",
    "        \n",
    "        features_chi2 = chi2(trans_feats, labels == target_col_id)\n",
    "        indices = np.argsort(features_chi2[0])\n",
    "        feature_names = np.array(tfidf.get_feature_names())[indices]\n",
    "        \n",
    "        unigrams = [v for v in feature_names if len(v.split(' ')) == 1]\n",
    "        bigrams = [v for v in feature_names if len(v.split(' ')) == 2]\n",
    "        \n",
    "        print(\"n==> %s:\" %(i))\n",
    "        print(\"  * Most Correlated Unigrams are: %s\" %(', '.join(unigrams[-N:])))\n",
    "        print()\n",
    "        print(\"  * Most Correlated Bigrams are: %s\" %(', '.join(bigrams[-N:])))\n",
    "        print('\\n')\n",
    "        \n",
    "get_most_corr_grams(trans_feats = features, target_col = data['label_text'], N = 10, col_id_dict = label_to_id)\n",
    "        \n",
    "        \n",
    "        \n",
    "        \n",
    "        \n"
   ]
  },
  {
   "cell_type": "markdown",
   "id": "7d0466ca",
   "metadata": {},
   "source": [
    "## 5. Split data into train and Test Set"
   ]
  },
  {
   "cell_type": "code",
   "execution_count": 14,
   "id": "165cb2b8",
   "metadata": {},
   "outputs": [],
   "source": [
    "x=data['narrations']\n",
    "y=data['label']\n",
    "x_train, x_test, y_train, y_test = train_test_split(x, y,test_size = 0.2, random_state=42)\n",
    "\n",
    "x_train_trans = tfidf.fit_transform(x_train)\n",
    "x_test_trans = tfidf.transform(x_test)"
   ]
  },
  {
   "cell_type": "markdown",
   "id": "82ad3c97",
   "metadata": {},
   "source": [
    "## 6. Model Building"
   ]
  },
  {
   "cell_type": "code",
   "execution_count": 15,
   "id": "e28a1de9",
   "metadata": {},
   "outputs": [],
   "source": [
    "mnb_clf = MultinomialNB()\n",
    "svc_clf = LinearSVC(random_state = 3)"
   ]
  },
  {
   "cell_type": "markdown",
   "id": "4cbaf171",
   "metadata": {},
   "source": [
    "###  6.1 Selecting Basline model"
   ]
  },
  {
   "cell_type": "code",
   "execution_count": 16,
   "id": "bdbf32fd",
   "metadata": {
    "scrolled": false
   },
   "outputs": [
    {
     "data": {
      "text/markdown": [
       "#### MultinomialNB based model"
      ],
      "text/plain": [
       "<IPython.core.display.Markdown object>"
      ]
     },
     "metadata": {},
     "output_type": "display_data"
    },
    {
     "name": "stdout",
     "output_type": "stream",
     "text": [
      "                         precision    recall  f1-score   support\n",
      "\n",
      "               transfer       1.00      0.09      0.17        11\n",
      "           bank_charges       0.80      0.73      0.76        11\n",
      "                   Rent       0.00      0.00      0.00         6\n",
      "card_request_commission       0.00      0.00      0.00         1\n",
      "                 health       0.00      0.00      0.00         1\n",
      "           cash_deposit       1.00      0.79      0.88        14\n",
      "                 salary       1.00      0.50      0.67        18\n",
      "             investment       0.00      0.00      0.00         6\n",
      "         transportation       0.00      0.00      0.00         3\n",
      "         loan_repayment       0.70      0.70      0.70        30\n",
      "                 others       0.00      0.00      0.00         4\n",
      " mature_loan_instalment       0.80      0.40      0.53        10\n",
      "                   food       0.00      0.00      0.00        12\n",
      "          miscellaneous       0.00      0.00      0.00         3\n",
      "              reversals       0.45      0.89      0.60        36\n",
      "          bills_or_fees       0.57      0.84      0.68        19\n",
      " atm_withdrawal_charges       0.66      0.89      0.76        28\n",
      "   stamp_duties_charges       0.94      0.97      0.95        32\n",
      "   offline_transactions       0.57      1.00      0.72        13\n",
      "         atm_withdrawal       0.62      0.82      0.70        38\n",
      "     phone_and_internet       1.00      0.10      0.18        10\n",
      "                    vat       1.00      1.00      1.00        15\n",
      "    online_transactions       0.00      0.00      0.00         4\n",
      "\n",
      "               accuracy                           0.67       325\n",
      "              macro avg       0.48      0.42      0.40       325\n",
      "           weighted avg       0.65      0.67      0.62       325\n",
      "\n"
     ]
    },
    {
     "data": {
      "image/png": "[encoded data removed]",
      "text/plain": [
       "<Figure size 720x576 with 2 Axes>"
      ]
     },
     "metadata": {
      "needs_background": "light"
     },
     "output_type": "display_data"
    },
    {
     "data": {
      "text/markdown": [
       "#### LinearSVC based model"
      ],
      "text/plain": [
       "<IPython.core.display.Markdown object>"
      ]
     },
     "metadata": {},
     "output_type": "display_data"
    },
    {
     "name": "stdout",
     "output_type": "stream",
     "text": [
      "                         precision    recall  f1-score   support\n",
      "\n",
      "               transfer       1.00      0.82      0.90        11\n",
      "           bank_charges       0.79      1.00      0.88        11\n",
      "                   Rent       1.00      1.00      1.00         6\n",
      "card_request_commission       1.00      1.00      1.00         1\n",
      "                 health       0.00      0.00      0.00         1\n",
      "           cash_deposit       1.00      0.86      0.92        14\n",
      "                 salary       1.00      0.94      0.97        18\n",
      "             investment       0.75      0.50      0.60         6\n",
      "         transportation       1.00      1.00      1.00         3\n",
      "         loan_repayment       0.84      0.90      0.87        30\n",
      "                 others       0.00      0.00      0.00         4\n",
      " mature_loan_instalment       0.47      0.70      0.56        10\n",
      "                   food       1.00      0.67      0.80        12\n",
      "          miscellaneous       1.00      0.67      0.80         3\n",
      "              reversals       0.89      0.94      0.92        36\n",
      "          bills_or_fees       0.73      0.84      0.78        19\n",
      " atm_withdrawal_charges       0.80      1.00      0.89        28\n",
      "   stamp_duties_charges       1.00      0.97      0.98        32\n",
      "   offline_transactions       0.67      0.92      0.77        13\n",
      "         atm_withdrawal       0.97      0.76      0.85        38\n",
      "     phone_and_internet       0.62      0.50      0.56        10\n",
      "                    vat       0.94      1.00      0.97        15\n",
      "    online_transactions       0.67      0.50      0.57         4\n",
      "\n",
      "               accuracy                           0.86       325\n",
      "              macro avg       0.79      0.76      0.77       325\n",
      "           weighted avg       0.86      0.86      0.85       325\n",
      "\n"
     ]
    },
    {
     "data": {
      "image/png": "[encoded data removed]",
      "text/plain": [
       "<Figure size 720x576 with 2 Axes>"
      ]
     },
     "metadata": {
      "needs_background": "light"
     },
     "output_type": "display_data"
    }
   ],
   "source": [
    "## Selecting Baslien model\n",
    "\n",
    "def evaluate_model(model, x_train, x_test, y_train, y_test, y_pred):\n",
    "    \n",
    "    print('training_score:', model.score(x_train, y_train))\n",
    "    print('testing_score:', model.score(x_test, y_test))\n",
    "    print('difference between train and test score:', model.score(x_train, y_train) - model.score(x_test, y_test))\n",
    "    \n",
    "    conf_matrix = confusion_matrix(y_test, y_pred)\n",
    "    conf_matrix_df = pd.DataFrame(conf_matrix, index = target_vals, columns = target_vals)\n",
    "    \n",
    "    plt.figure(figsize=(10, 8))\n",
    "    sns.heatmap(conf_matrix_df, annot=True, fmt='g')\n",
    "    plt.title('Confusion Matrix')\n",
    "    plt.ylabel('Actal Values')\n",
    "    plt.xlabel('Predicted Values')\n",
    "    plt.show()\n",
    "    \n",
    "\n",
    "# benchmarking models and deriving metrics \n",
    "def benchmark_models(x_train, x_test, y_train, y_test, algs = [mnb_clf, svc_clf], target_names = target_vals):\n",
    "    \n",
    "    for alg in algs:\n",
    "        algorithm_name = alg.__class__.__name__\n",
    "        display(Markdown('#### {} based model'.format(algorithm_name)))\n",
    "        \n",
    "        alg.fit(x_train, y_train)\n",
    "        y_pred = alg.predict(x_test)\n",
    "        \n",
    "        print(classification_report(y_test, y_pred, target_names = target_names))\n",
    "        \n",
    "        conf_matrix = confusion_matrix(y_test, y_pred)\n",
    "        conf_matrix_df = pd.DataFrame(conf_matrix, index = target_vals, columns = target_vals)\n",
    "    \n",
    "        plt.figure(figsize=(10, 8))\n",
    "        sns.heatmap(conf_matrix_df, annot=True, fmt='g', )\n",
    "        plt.title('Confusion Matrix')\n",
    "        plt.ylabel('Actal Values')\n",
    "        plt.xlabel('Predicted Values')\n",
    "        plt.xticks(rotation = 90)\n",
    "        plt.show()\n",
    "        \n",
    "    \n",
    "benchmark_models(x_train_trans, x_test_trans, y_train, y_test, algs = [mnb_clf, svc_clf], \n",
    "                 target_names = target_vals)\n"
   ]
  },
  {
   "cell_type": "markdown",
   "id": "b2ef5941",
   "metadata": {},
   "source": [
    "### 6.2 Selecting Linear Svc and the basline model"
   ]
  },
  {
   "cell_type": "code",
   "execution_count": 17,
   "id": "0e17ef41",
   "metadata": {},
   "outputs": [
    {
     "data": {
      "text/plain": [
       "Pipeline(steps=[('vectorizer',\n",
       "                 TfidfVectorizer(encoding='latin-1', min_df=2,\n",
       "                                 ngram_range=(1, 2),\n",
       "                                 stop_words=['i', 'me', 'my', 'myself', 'we',\n",
       "                                             'our', 'ours', 'ourselves', 'you',\n",
       "                                             \"you're\", \"you've\", \"you'll\",\n",
       "                                             \"you'd\", 'your', 'yours',\n",
       "                                             'yourself', 'yourselves', 'he',\n",
       "                                             'him', 'his', 'himself', 'she',\n",
       "                                             \"she's\", 'her', 'hers', 'herself',\n",
       "                                             'it', \"it's\", 'its', 'itself', ...],\n",
       "                                 sublinear_tf=True)),\n",
       "                ('make_predictions', LinearSVC(random_state=3))])"
      ]
     },
     "execution_count": 17,
     "metadata": {},
     "output_type": "execute_result"
    }
   ],
   "source": [
    "x=data['narrations']\n",
    "y=data['label']\n",
    "\n",
    "x_train, x_test, y_train, y_test = train_test_split(x, y, test_size = 0.2,random_state=3)\n",
    "\n",
    "\n",
    "y_train_trans = y_train.map(id_to_label)\n",
    "y_test_trans = y_test.map(id_to_label)\n",
    "\n",
    "\n",
    "tfidf = TfidfVectorizer(encoding='latin-1',\n",
    "                                min_df=2,\n",
    "                                ngram_range=(1, 2), \n",
    "                                stop_words= stop_words, \n",
    "                                sublinear_tf=True)\n",
    "\n",
    "\n",
    "\n",
    "# creating pipeline for prediction\n",
    "svm_pipeline = Pipeline(steps = [('vectorizer', tfidf),\n",
    "                                 ('make_predictions', svc_clf)])\n",
    "\n",
    "svm_pipeline.fit(x_train, y_train_trans)"
   ]
  },
  {
   "cell_type": "code",
   "execution_count": 18,
   "id": "ab9865f1",
   "metadata": {},
   "outputs": [
    {
     "name": "stdout",
     "output_type": "stream",
     "text": [
      "                         precision    recall  f1-score   support\n",
      "\n",
      "               transfer       1.00      1.00      1.00         3\n",
      "           bank_charges       0.95      0.90      0.92        40\n",
      "                   Rent       0.91      1.00      0.95        31\n",
      "card_request_commission       0.75      0.92      0.83        13\n",
      "                 health       0.95      1.00      0.97        19\n",
      "           cash_deposit       1.00      1.00      1.00         1\n",
      "                 salary       0.88      0.96      0.92        23\n",
      "             investment       1.00      1.00      1.00         3\n",
      "         transportation       0.00      0.00      0.00         2\n",
      "         loan_repayment       0.00      0.00      0.00         3\n",
      "                 others       0.70      0.64      0.67        22\n",
      " mature_loan_instalment       0.55      0.46      0.50        13\n",
      "                   food       0.67      0.67      0.67         3\n",
      "          miscellaneous       0.80      0.94      0.86        17\n",
      "              reversals       0.75      0.75      0.75         4\n",
      "          bills_or_fees       0.29      0.50      0.36         4\n",
      " atm_withdrawal_charges       0.86      0.67      0.75         9\n",
      "   stamp_duties_charges       0.90      0.92      0.91        38\n",
      "   offline_transactions       1.00      0.93      0.96        14\n",
      "         atm_withdrawal       1.00      0.97      0.98        29\n",
      "     phone_and_internet       0.82      0.82      0.82        11\n",
      "                    vat       1.00      1.00      1.00         6\n",
      "    online_transactions       1.00      0.94      0.97        17\n",
      "\n",
      "               accuracy                           0.87       325\n",
      "              macro avg       0.77      0.78      0.77       325\n",
      "           weighted avg       0.86      0.87      0.86       325\n",
      "\n"
     ]
    }
   ],
   "source": [
    "# making predictions with pipeline object \n",
    "y_pred = svm_pipeline.predict(x_test)\n",
    "print(classification_report(y_test_trans, y_pred, target_names = target_vals))"
   ]
  },
  {
   "cell_type": "code",
   "execution_count": 19,
   "id": "78a1b5b7",
   "metadata": {},
   "outputs": [],
   "source": [
    "from sklearn.metrics import precision_score, \\\n",
    "    recall_score, confusion_matrix, classification_report, \\\n",
    "    accuracy_score, f1_score"
   ]
  },
  {
   "cell_type": "code",
   "execution_count": 20,
   "id": "0b0695b4",
   "metadata": {},
   "outputs": [
    {
     "name": "stdout",
     "output_type": "stream",
     "text": [
      "Accuracy: 0.8707692307692307\n",
      "F1 score: 0.8643815681045892\n",
      "Recall: 0.8707692307692307\n"
     ]
    }
   ],
   "source": [
    "print ('Accuracy:', accuracy_score(y_test_trans, y_pred))\n",
    "print ('F1 score:', f1_score(y_test_trans, y_pred,average='weighted'))\n",
    "print ('Recall:', recall_score(y_test_trans, y_pred,\n",
    "                              average='weighted'))"
   ]
  },
  {
   "cell_type": "markdown",
   "id": "42f4c169",
   "metadata": {},
   "source": [
    "## 7.0 Export Artifacts"
   ]
  },
  {
   "cell_type": "code",
   "execution_count": 21,
   "id": "4896c694",
   "metadata": {},
   "outputs": [],
   "source": [
    "import pickle\n",
    "\n",
    "def export_object(filename = \"filename\", object_to_export = stop_words):\n",
    "    \n",
    "    dump_file = open(filename, \"wb\")\n",
    "    pickle.dump(object_to_export, dump_file)\n",
    "    dump_file.close()"
   ]
  },
  {
   "cell_type": "code",
   "execution_count": 22,
   "id": "dd8a8327",
   "metadata": {},
   "outputs": [],
   "source": [
    "## Model Pipeline\n",
    "export_object(filename = \"svm_model\", object_to_export = svm_pipeline)"
   ]
  },
  {
   "cell_type": "code",
   "execution_count": 23,
   "id": "72988cf3",
   "metadata": {},
   "outputs": [],
   "source": [
    "export_object(filename = \"label_id_dictionary\", object_to_export = label_id)"
   ]
  },
  {
   "cell_type": "code",
   "execution_count": 24,
   "id": "cc561c43",
   "metadata": {},
   "outputs": [],
   "source": [
    "export_object(filename = \"Text_Stopwords\", object_to_export = stop_words)"
   ]
  },
  {
   "cell_type": "code",
   "execution_count": null,
   "id": "e53c139a",
   "metadata": {},
   "outputs": [],
   "source": []
  }
 ],
 "metadata": {
  "kernelspec": {
   "display_name": "Python 3 (ipykernel)",
   "language": "python",
   "name": "python3"
  },
  "language_info": {
   "codemirror_mode": {
    "name": "ipython",
    "version": 3
   },
   "file_extension": ".py",
   "mimetype": "text/x-python",
   "name": "python",
   "nbconvert_exporter": "python",
   "pygments_lexer": "ipython3",
   "version": "3.9.7"
  }
 },
 "nbformat": 4,
 "nbformat_minor": 5
}
